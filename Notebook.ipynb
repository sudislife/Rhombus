{
 "cells": [
  {
   "cell_type": "code",
   "execution_count": 16,
   "metadata": {},
   "outputs": [],
   "source": [
    "import pandas as pd\n",
    "\n",
    "def infer_and_convert_data_types(df):\n",
    "    for col in df.columns:\n",
    "        # Skip columns with all NaN values\n",
    "        if df[col].isnull().all():\n",
    "            continue\n",
    "\n",
    "        # Infer data type\n",
    "        # Check if column is boolean\n",
    "        if df[col].nunique() == 2 and df[col].dropna().isin([0, 1]).all():\n",
    "            df[col] = df[col].astype(bool)\n",
    "\n",
    "        # Check if column is numeric\n",
    "        if not pd.to_numeric(df[col], errors='coerce').isna().all():\n",
    "            df[col] = pd.to_numeric(df[col], errors='coerce')\n",
    "\n",
    "        # Check if column is datetime\n",
    "        if pd.to_datetime(df[col], errors='coerce').notnull().all():\n",
    "            df[col] = pd.to_datetime(df[col], errors='coerce')\n",
    "\n",
    "        # Check if the column should be categorical\n",
    "        if len(df[col].unique()) / len(df[col]) < 0.5:  # Example threshold for categorization\n",
    "            df[col] = pd.Categorical(df[col])\n",
    "\n",
    "    return df"
   ]
  },
  {
   "cell_type": "code",
   "execution_count": 21,
   "metadata": {},
   "outputs": [
    {
     "data": {
      "text/plain": [
       "127"
      ]
     },
     "execution_count": 21,
     "metadata": {},
     "output_type": "execute_result"
    }
   ],
   "source": [
    "import numpy as np\n",
    "\n",
    "np.iinfo(np.int8).max"
   ]
  },
  {
   "cell_type": "code",
   "execution_count": 17,
   "metadata": {},
   "outputs": [
    {
     "name": "stdout",
     "output_type": "stream",
     "text": [
      "Data types before inference:\n",
      "Name         object\n",
      "Birthdate    object\n",
      "Score        object\n",
      "Grade        object\n",
      "dtype: object\n"
     ]
    }
   ],
   "source": [
    "# Test the function with your DataFrame\n",
    "df = pd.read_csv('sample_data.csv')\n",
    "print(\"Data types before inference:\")\n",
    "print(df.dtypes)"
   ]
  },
  {
   "cell_type": "code",
   "execution_count": 18,
   "metadata": {},
   "outputs": [
    {
     "name": "stdout",
     "output_type": "stream",
     "text": [
      "\n",
      "Data types after inference:\n",
      "Name                 object\n",
      "Birthdate    datetime64[ns]\n",
      "Score               float64\n",
      "Grade              category\n",
      "dtype: object\n"
     ]
    },
    {
     "name": "stderr",
     "output_type": "stream",
     "text": [
      "C:\\Users\\sudak\\AppData\\Local\\Temp\\ipykernel_5908\\4243775413.py:19: UserWarning: Could not infer format, so each element will be parsed individually, falling back to `dateutil`. To ensure parsing is consistent and as-expected, please specify a format.\n",
      "  if pd.to_datetime(df[col], errors='coerce').notnull().all():\n",
      "C:\\Users\\sudak\\AppData\\Local\\Temp\\ipykernel_5908\\4243775413.py:19: UserWarning: Could not infer format, so each element will be parsed individually, falling back to `dateutil`. To ensure parsing is consistent and as-expected, please specify a format.\n",
      "  if pd.to_datetime(df[col], errors='coerce').notnull().all():\n"
     ]
    }
   ],
   "source": [
    "df = infer_and_convert_data_types(df)\n",
    "\n",
    "print(\"\\nData types after inference:\")\n",
    "print(df.dtypes)"
   ]
  },
  {
   "cell_type": "code",
   "execution_count": null,
   "metadata": {},
   "outputs": [],
   "source": []
  }
 ],
 "metadata": {
  "kernelspec": {
   "display_name": "tf",
   "language": "python",
   "name": "python3"
  },
  "language_info": {
   "codemirror_mode": {
    "name": "ipython",
    "version": 3
   },
   "file_extension": ".py",
   "mimetype": "text/x-python",
   "name": "python",
   "nbconvert_exporter": "python",
   "pygments_lexer": "ipython3",
   "version": "3.10.11"
  }
 },
 "nbformat": 4,
 "nbformat_minor": 2
}
